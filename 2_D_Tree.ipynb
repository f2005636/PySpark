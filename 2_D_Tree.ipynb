{
 "cells": [
  {
   "cell_type": "code",
   "execution_count": 1,
   "metadata": {
    "collapsed": true
   },
   "outputs": [],
   "source": [
    "df = sqlContext.sql(\"select * from churn_modelling\")\n",
    "df = df.drop('RowNumber', 'CustomerId', 'Surname')\n",
    "df.printSchema()"
   ]
  },
  {
   "cell_type": "code",
   "execution_count": 2,
   "metadata": {
    "collapsed": true
   },
   "outputs": [],
   "source": [
    "from pyspark.ml.feature import VectorAssembler,VectorIndexer,OneHotEncoder,StringIndexer\n",
    "from pyspark.ml.classification import DecisionTreeClassifier\n",
    "from pyspark.ml import Pipeline\n",
    "from pyspark.ml.evaluation import BinaryClassificationEvaluator,MulticlassClassificationEvaluator"
   ]
  },
  {
   "cell_type": "code",
   "execution_count": 3,
   "metadata": {
    "collapsed": true
   },
   "outputs": [],
   "source": [
    "geography_indexer = StringIndexer(inputCol='Geography',outputCol='GeographyInd')\n",
    "geography_encoder = OneHotEncoder(inputCol='GeographyInd',outputCol='GeographyEnc')\n",
    "gender_indexer = StringIndexer(inputCol='Gender',outputCol='GenderInd')\n",
    "gender_encoder = OneHotEncoder(inputCol='GenderInd',outputCol='GenderEnc')"
   ]
  },
  {
   "cell_type": "code",
   "execution_count": 4,
   "metadata": {
    "collapsed": true
   },
   "outputs": [],
   "source": [
    "assembler = VectorAssembler(inputCols=['CreditScore', 'GeographyEnc', 'GenderEnc', 'Age', 'Tenure', 'Balance', 'NumOfProducts',\n",
    "                                        'HasCrCard', 'IsActiveMember', 'EstimatedSalary'],outputCol='features')"
   ]
  },
  {
   "cell_type": "code",
   "execution_count": 6,
   "metadata": {
    "collapsed": true
   },
   "outputs": [],
   "source": [
    "for i in range(2,11):\n",
    "  churn_model = DecisionTreeClassifier(featuresCol='features',labelCol='Exited', maxDepth = i)\n",
    "  pipeline = Pipeline(stages=[geography_indexer,geography_encoder,gender_indexer,gender_encoder,assembler,churn_model])\n",
    "  train_data, test_data = df.randomSplit([0.7,.3])\n",
    "  fit_model = pipeline.fit(train_data)\n",
    "  results = fit_model.transform(test_data)\n",
    "  print(i)\n",
    "  my_eval = BinaryClassificationEvaluator(rawPredictionCol='prediction',labelCol='Exited')\n",
    "  AUC = my_eval.evaluate(results)\n",
    "  print(AUC)\n",
    "  my_acc = MulticlassClassificationEvaluator(labelCol=\"Exited\", predictionCol=\"prediction\", metricName=\"accuracy\")\n",
    "  Accuracy = my_acc.evaluate(results)\n",
    "  print(Accuracy)\n",
    "  print('\\n')"
   ]
  },
  {
   "cell_type": "code",
   "execution_count": 7,
   "metadata": {
    "collapsed": true
   },
   "outputs": [],
   "source": [
    "churn_model = DecisionTreeClassifier(featuresCol='features',labelCol='Exited', maxDepth = 8)"
   ]
  },
  {
   "cell_type": "code",
   "execution_count": 8,
   "metadata": {
    "collapsed": true
   },
   "outputs": [],
   "source": [
    "pipeline = Pipeline(stages=[geography_indexer,geography_encoder,gender_indexer,gender_encoder,assembler,churn_model])"
   ]
  },
  {
   "cell_type": "code",
   "execution_count": 9,
   "metadata": {
    "collapsed": true
   },
   "outputs": [],
   "source": [
    "train_data, test_data = df.randomSplit([0.7,.3])"
   ]
  },
  {
   "cell_type": "code",
   "execution_count": 10,
   "metadata": {
    "collapsed": true
   },
   "outputs": [],
   "source": [
    "fit_model = pipeline.fit(train_data)\n",
    "results = fit_model.transform(test_data)"
   ]
  },
  {
   "cell_type": "code",
   "execution_count": 11,
   "metadata": {
    "collapsed": true
   },
   "outputs": [],
   "source": [
    "my_eval = BinaryClassificationEvaluator(rawPredictionCol='prediction',labelCol='Exited')\n",
    "AUC = my_eval.evaluate(results)\n",
    "AUC"
   ]
  },
  {
   "cell_type": "code",
   "execution_count": 12,
   "metadata": {
    "collapsed": true
   },
   "outputs": [],
   "source": [
    "my_acc = MulticlassClassificationEvaluator(labelCol=\"Exited\", predictionCol=\"prediction\", metricName=\"accuracy\")\n",
    "Accuracy = my_acc.evaluate(results)\n",
    "Accuracy"
   ]
  }
 ],
 "metadata": {
  "kernelspec": {
   "display_name": "Python 3",
   "language": "python",
   "name": "python3"
  },
  "language_info": {
   "codemirror_mode": {
    "name": "ipython",
    "version": 3
   },
   "file_extension": ".py",
   "mimetype": "text/x-python",
   "name": "python",
   "nbconvert_exporter": "python",
   "pygments_lexer": "ipython3",
   "version": "3.6.2"
  },
  "name": "logistic_reg",
  "notebookId": 2592583344837273
 },
 "nbformat": 4,
 "nbformat_minor": 1
}
